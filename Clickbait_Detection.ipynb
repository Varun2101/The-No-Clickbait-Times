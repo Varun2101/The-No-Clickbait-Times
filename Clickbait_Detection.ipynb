{
  "nbformat": 4,
  "nbformat_minor": 0,
  "metadata": {
    "colab": {
      "name": "Clickbait_Detection.ipynb",
      "provenance": [],
      "collapsed_sections": []
    },
    "kernelspec": {
      "name": "python3",
      "display_name": "Python 3"
    }
  },
  "cells": [
    {
      "cell_type": "code",
      "metadata": {
        "id": "3qObEo6-zUpj",
        "colab_type": "code",
        "colab": {}
      },
      "source": [
        "# Basic Libraries\n",
        "import numpy as np\n",
        "import pandas as pd\n",
        "import seaborn as sb\n",
        "import matplotlib.pyplot as plt # we only need pyplot\n",
        "sb.set() # set the default Seaborn style for graphics"
      ],
      "execution_count": 0,
      "outputs": []
    },
    {
      "cell_type": "code",
      "metadata": {
        "id": "65vKyWFm2bja",
        "colab_type": "code",
        "colab": {
          "resources": {
            "http://localhost:8080/nbextensions/google.colab/files.js": {
              "data": "Ly8gQ29weXJpZ2h0IDIwMTcgR29vZ2xlIExMQwovLwovLyBMaWNlbnNlZCB1bmRlciB0aGUgQXBhY2hlIExpY2Vuc2UsIFZlcnNpb24gMi4wICh0aGUgIkxpY2Vuc2UiKTsKLy8geW91IG1heSBub3QgdXNlIHRoaXMgZmlsZSBleGNlcHQgaW4gY29tcGxpYW5jZSB3aXRoIHRoZSBMaWNlbnNlLgovLyBZb3UgbWF5IG9idGFpbiBhIGNvcHkgb2YgdGhlIExpY2Vuc2UgYXQKLy8KLy8gICAgICBodHRwOi8vd3d3LmFwYWNoZS5vcmcvbGljZW5zZXMvTElDRU5TRS0yLjAKLy8KLy8gVW5sZXNzIHJlcXVpcmVkIGJ5IGFwcGxpY2FibGUgbGF3IG9yIGFncmVlZCB0byBpbiB3cml0aW5nLCBzb2Z0d2FyZQovLyBkaXN0cmlidXRlZCB1bmRlciB0aGUgTGljZW5zZSBpcyBkaXN0cmlidXRlZCBvbiBhbiAiQVMgSVMiIEJBU0lTLAovLyBXSVRIT1VUIFdBUlJBTlRJRVMgT1IgQ09ORElUSU9OUyBPRiBBTlkgS0lORCwgZWl0aGVyIGV4cHJlc3Mgb3IgaW1wbGllZC4KLy8gU2VlIHRoZSBMaWNlbnNlIGZvciB0aGUgc3BlY2lmaWMgbGFuZ3VhZ2UgZ292ZXJuaW5nIHBlcm1pc3Npb25zIGFuZAovLyBsaW1pdGF0aW9ucyB1bmRlciB0aGUgTGljZW5zZS4KCi8qKgogKiBAZmlsZW92ZXJ2aWV3IEhlbHBlcnMgZm9yIGdvb2dsZS5jb2xhYiBQeXRob24gbW9kdWxlLgogKi8KKGZ1bmN0aW9uKHNjb3BlKSB7CmZ1bmN0aW9uIHNwYW4odGV4dCwgc3R5bGVBdHRyaWJ1dGVzID0ge30pIHsKICBjb25zdCBlbGVtZW50ID0gZG9jdW1lbnQuY3JlYXRlRWxlbWVudCgnc3BhbicpOwogIGVsZW1lbnQudGV4dENvbnRlbnQgPSB0ZXh0OwogIGZvciAoY29uc3Qga2V5IG9mIE9iamVjdC5rZXlzKHN0eWxlQXR0cmlidXRlcykpIHsKICAgIGVsZW1lbnQuc3R5bGVba2V5XSA9IHN0eWxlQXR0cmlidXRlc1trZXldOwogIH0KICByZXR1cm4gZWxlbWVudDsKfQoKLy8gTWF4IG51bWJlciBvZiBieXRlcyB3aGljaCB3aWxsIGJlIHVwbG9hZGVkIGF0IGEgdGltZS4KY29uc3QgTUFYX1BBWUxPQURfU0laRSA9IDEwMCAqIDEwMjQ7Ci8vIE1heCBhbW91bnQgb2YgdGltZSB0byBibG9jayB3YWl0aW5nIGZvciB0aGUgdXNlci4KY29uc3QgRklMRV9DSEFOR0VfVElNRU9VVF9NUyA9IDMwICogMTAwMDsKCmZ1bmN0aW9uIF91cGxvYWRGaWxlcyhpbnB1dElkLCBvdXRwdXRJZCkgewogIGNvbnN0IHN0ZXBzID0gdXBsb2FkRmlsZXNTdGVwKGlucHV0SWQsIG91dHB1dElkKTsKICBjb25zdCBvdXRwdXRFbGVtZW50ID0gZG9jdW1lbnQuZ2V0RWxlbWVudEJ5SWQob3V0cHV0SWQpOwogIC8vIENhY2hlIHN0ZXBzIG9uIHRoZSBvdXRwdXRFbGVtZW50IHRvIG1ha2UgaXQgYXZhaWxhYmxlIGZvciB0aGUgbmV4dCBjYWxsCiAgLy8gdG8gdXBsb2FkRmlsZXNDb250aW51ZSBmcm9tIFB5dGhvbi4KICBvdXRwdXRFbGVtZW50LnN0ZXBzID0gc3RlcHM7CgogIHJldHVybiBfdXBsb2FkRmlsZXNDb250aW51ZShvdXRwdXRJZCk7Cn0KCi8vIFRoaXMgaXMgcm91Z2hseSBhbiBhc3luYyBnZW5lcmF0b3IgKG5vdCBzdXBwb3J0ZWQgaW4gdGhlIGJyb3dzZXIgeWV0KSwKLy8gd2hlcmUgdGhlcmUgYXJlIG11bHRpcGxlIGFzeW5jaHJvbm91cyBzdGVwcyBhbmQgdGhlIFB5dGhvbiBzaWRlIGlzIGdvaW5nCi8vIHRvIHBvbGwgZm9yIGNvbXBsZXRpb24gb2YgZWFjaCBzdGVwLgovLyBUaGlzIHVzZXMgYSBQcm9taXNlIHRvIGJsb2NrIHRoZSBweXRob24gc2lkZSBvbiBjb21wbGV0aW9uIG9mIGVhY2ggc3RlcCwKLy8gdGhlbiBwYXNzZXMgdGhlIHJlc3VsdCBvZiB0aGUgcHJldmlvdXMgc3RlcCBhcyB0aGUgaW5wdXQgdG8gdGhlIG5leHQgc3RlcC4KZnVuY3Rpb24gX3VwbG9hZEZpbGVzQ29udGludWUob3V0cHV0SWQpIHsKICBjb25zdCBvdXRwdXRFbGVtZW50ID0gZG9jdW1lbnQuZ2V0RWxlbWVudEJ5SWQob3V0cHV0SWQpOwogIGNvbnN0IHN0ZXBzID0gb3V0cHV0RWxlbWVudC5zdGVwczsKCiAgY29uc3QgbmV4dCA9IHN0ZXBzLm5leHQob3V0cHV0RWxlbWVudC5sYXN0UHJvbWlzZVZhbHVlKTsKICByZXR1cm4gUHJvbWlzZS5yZXNvbHZlKG5leHQudmFsdWUucHJvbWlzZSkudGhlbigodmFsdWUpID0+IHsKICAgIC8vIENhY2hlIHRoZSBsYXN0IHByb21pc2UgdmFsdWUgdG8gbWFrZSBpdCBhdmFpbGFibGUgdG8gdGhlIG5leHQKICAgIC8vIHN0ZXAgb2YgdGhlIGdlbmVyYXRvci4KICAgIG91dHB1dEVsZW1lbnQubGFzdFByb21pc2VWYWx1ZSA9IHZhbHVlOwogICAgcmV0dXJuIG5leHQudmFsdWUucmVzcG9uc2U7CiAgfSk7Cn0KCi8qKgogKiBHZW5lcmF0b3IgZnVuY3Rpb24gd2hpY2ggaXMgY2FsbGVkIGJldHdlZW4gZWFjaCBhc3luYyBzdGVwIG9mIHRoZSB1cGxvYWQKICogcHJvY2Vzcy4KICogQHBhcmFtIHtzdHJpbmd9IGlucHV0SWQgRWxlbWVudCBJRCBvZiB0aGUgaW5wdXQgZmlsZSBwaWNrZXIgZWxlbWVudC4KICogQHBhcmFtIHtzdHJpbmd9IG91dHB1dElkIEVsZW1lbnQgSUQgb2YgdGhlIG91dHB1dCBkaXNwbGF5LgogKiBAcmV0dXJuIHshSXRlcmFibGU8IU9iamVjdD59IEl0ZXJhYmxlIG9mIG5leHQgc3RlcHMuCiAqLwpmdW5jdGlvbiogdXBsb2FkRmlsZXNTdGVwKGlucHV0SWQsIG91dHB1dElkKSB7CiAgY29uc3QgaW5wdXRFbGVtZW50ID0gZG9jdW1lbnQuZ2V0RWxlbWVudEJ5SWQoaW5wdXRJZCk7CiAgaW5wdXRFbGVtZW50LmRpc2FibGVkID0gZmFsc2U7CgogIGNvbnN0IG91dHB1dEVsZW1lbnQgPSBkb2N1bWVudC5nZXRFbGVtZW50QnlJZChvdXRwdXRJZCk7CiAgb3V0cHV0RWxlbWVudC5pbm5lckhUTUwgPSAnJzsKCiAgY29uc3QgcGlja2VkUHJvbWlzZSA9IG5ldyBQcm9taXNlKChyZXNvbHZlKSA9PiB7CiAgICBpbnB1dEVsZW1lbnQuYWRkRXZlbnRMaXN0ZW5lcignY2hhbmdlJywgKGUpID0+IHsKICAgICAgcmVzb2x2ZShlLnRhcmdldC5maWxlcyk7CiAgICB9KTsKICB9KTsKCiAgY29uc3QgY2FuY2VsID0gZG9jdW1lbnQuY3JlYXRlRWxlbWVudCgnYnV0dG9uJyk7CiAgaW5wdXRFbGVtZW50LnBhcmVudEVsZW1lbnQuYXBwZW5kQ2hpbGQoY2FuY2VsKTsKICBjYW5jZWwudGV4dENvbnRlbnQgPSAnQ2FuY2VsIHVwbG9hZCc7CiAgY29uc3QgY2FuY2VsUHJvbWlzZSA9IG5ldyBQcm9taXNlKChyZXNvbHZlKSA9PiB7CiAgICBjYW5jZWwub25jbGljayA9ICgpID0+IHsKICAgICAgcmVzb2x2ZShudWxsKTsKICAgIH07CiAgfSk7CgogIC8vIENhbmNlbCB1cGxvYWQgaWYgdXNlciBoYXNuJ3QgcGlja2VkIGFueXRoaW5nIGluIHRpbWVvdXQuCiAgY29uc3QgdGltZW91dFByb21pc2UgPSBuZXcgUHJvbWlzZSgocmVzb2x2ZSkgPT4gewogICAgc2V0VGltZW91dCgoKSA9PiB7CiAgICAgIHJlc29sdmUobnVsbCk7CiAgICB9LCBGSUxFX0NIQU5HRV9USU1FT1VUX01TKTsKICB9KTsKCiAgLy8gV2FpdCBmb3IgdGhlIHVzZXIgdG8gcGljayB0aGUgZmlsZXMuCiAgY29uc3QgZmlsZXMgPSB5aWVsZCB7CiAgICBwcm9taXNlOiBQcm9taXNlLnJhY2UoW3BpY2tlZFByb21pc2UsIHRpbWVvdXRQcm9taXNlLCBjYW5jZWxQcm9taXNlXSksCiAgICByZXNwb25zZTogewogICAgICBhY3Rpb246ICdzdGFydGluZycsCiAgICB9CiAgfTsKCiAgaWYgKCFmaWxlcykgewogICAgcmV0dXJuIHsKICAgICAgcmVzcG9uc2U6IHsKICAgICAgICBhY3Rpb246ICdjb21wbGV0ZScsCiAgICAgIH0KICAgIH07CiAgfQoKICBjYW5jZWwucmVtb3ZlKCk7CgogIC8vIERpc2FibGUgdGhlIGlucHV0IGVsZW1lbnQgc2luY2UgZnVydGhlciBwaWNrcyBhcmUgbm90IGFsbG93ZWQuCiAgaW5wdXRFbGVtZW50LmRpc2FibGVkID0gdHJ1ZTsKCiAgZm9yIChjb25zdCBmaWxlIG9mIGZpbGVzKSB7CiAgICBjb25zdCBsaSA9IGRvY3VtZW50LmNyZWF0ZUVsZW1lbnQoJ2xpJyk7CiAgICBsaS5hcHBlbmQoc3BhbihmaWxlLm5hbWUsIHtmb250V2VpZ2h0OiAnYm9sZCd9KSk7CiAgICBsaS5hcHBlbmQoc3BhbigKICAgICAgICBgKCR7ZmlsZS50eXBlIHx8ICduL2EnfSkgLSAke2ZpbGUuc2l6ZX0gYnl0ZXMsIGAgKwogICAgICAgIGBsYXN0IG1vZGlmaWVkOiAkewogICAgICAgICAgICBmaWxlLmxhc3RNb2RpZmllZERhdGUgPyBmaWxlLmxhc3RNb2RpZmllZERhdGUudG9Mb2NhbGVEYXRlU3RyaW5nKCkgOgogICAgICAgICAgICAgICAgICAgICAgICAgICAgICAgICAgICAnbi9hJ30gLSBgKSk7CiAgICBjb25zdCBwZXJjZW50ID0gc3BhbignMCUgZG9uZScpOwogICAgbGkuYXBwZW5kQ2hpbGQocGVyY2VudCk7CgogICAgb3V0cHV0RWxlbWVudC5hcHBlbmRDaGlsZChsaSk7CgogICAgY29uc3QgZmlsZURhdGFQcm9taXNlID0gbmV3IFByb21pc2UoKHJlc29sdmUpID0+IHsKICAgICAgY29uc3QgcmVhZGVyID0gbmV3IEZpbGVSZWFkZXIoKTsKICAgICAgcmVhZGVyLm9ubG9hZCA9IChlKSA9PiB7CiAgICAgICAgcmVzb2x2ZShlLnRhcmdldC5yZXN1bHQpOwogICAgICB9OwogICAgICByZWFkZXIucmVhZEFzQXJyYXlCdWZmZXIoZmlsZSk7CiAgICB9KTsKICAgIC8vIFdhaXQgZm9yIHRoZSBkYXRhIHRvIGJlIHJlYWR5LgogICAgbGV0IGZpbGVEYXRhID0geWllbGQgewogICAgICBwcm9taXNlOiBmaWxlRGF0YVByb21pc2UsCiAgICAgIHJlc3BvbnNlOiB7CiAgICAgICAgYWN0aW9uOiAnY29udGludWUnLAogICAgICB9CiAgICB9OwoKICAgIC8vIFVzZSBhIGNodW5rZWQgc2VuZGluZyB0byBhdm9pZCBtZXNzYWdlIHNpemUgbGltaXRzLiBTZWUgYi82MjExNTY2MC4KICAgIGxldCBwb3NpdGlvbiA9IDA7CiAgICB3aGlsZSAocG9zaXRpb24gPCBmaWxlRGF0YS5ieXRlTGVuZ3RoKSB7CiAgICAgIGNvbnN0IGxlbmd0aCA9IE1hdGgubWluKGZpbGVEYXRhLmJ5dGVMZW5ndGggLSBwb3NpdGlvbiwgTUFYX1BBWUxPQURfU0laRSk7CiAgICAgIGNvbnN0IGNodW5rID0gbmV3IFVpbnQ4QXJyYXkoZmlsZURhdGEsIHBvc2l0aW9uLCBsZW5ndGgpOwogICAgICBwb3NpdGlvbiArPSBsZW5ndGg7CgogICAgICBjb25zdCBiYXNlNjQgPSBidG9hKFN0cmluZy5mcm9tQ2hhckNvZGUuYXBwbHkobnVsbCwgY2h1bmspKTsKICAgICAgeWllbGQgewogICAgICAgIHJlc3BvbnNlOiB7CiAgICAgICAgICBhY3Rpb246ICdhcHBlbmQnLAogICAgICAgICAgZmlsZTogZmlsZS5uYW1lLAogICAgICAgICAgZGF0YTogYmFzZTY0LAogICAgICAgIH0sCiAgICAgIH07CiAgICAgIHBlcmNlbnQudGV4dENvbnRlbnQgPQogICAgICAgICAgYCR7TWF0aC5yb3VuZCgocG9zaXRpb24gLyBmaWxlRGF0YS5ieXRlTGVuZ3RoKSAqIDEwMCl9JSBkb25lYDsKICAgIH0KICB9CgogIC8vIEFsbCBkb25lLgogIHlpZWxkIHsKICAgIHJlc3BvbnNlOiB7CiAgICAgIGFjdGlvbjogJ2NvbXBsZXRlJywKICAgIH0KICB9Owp9CgpzY29wZS5nb29nbGUgPSBzY29wZS5nb29nbGUgfHwge307CnNjb3BlLmdvb2dsZS5jb2xhYiA9IHNjb3BlLmdvb2dsZS5jb2xhYiB8fCB7fTsKc2NvcGUuZ29vZ2xlLmNvbGFiLl9maWxlcyA9IHsKICBfdXBsb2FkRmlsZXMsCiAgX3VwbG9hZEZpbGVzQ29udGludWUsCn07Cn0pKHNlbGYpOwo=",
              "ok": true,
              "headers": [
                [
                  "content-type",
                  "application/javascript"
                ]
              ],
              "status": 200,
              "status_text": ""
            }
          },
          "base_uri": "https://localhost:8080/",
          "height": 93
        },
        "outputId": "cce02e6b-a67a-4f49-e3de-b4c6c3f134fd"
      },
      "source": [
        "from google.colab import files\n",
        "\n",
        "uploaded = files.upload()\n",
        "\n",
        "for fn in uploaded.keys():\n",
        "  print('User uploaded file \"{name}\" with length {length} bytes'.format(\n",
        "      name=fn, length=len(uploaded[fn])))"
      ],
      "execution_count": 2,
      "outputs": [
        {
          "output_type": "display_data",
          "data": {
            "text/html": [
              "\n",
              "     <input type=\"file\" id=\"files-823ff8d1-8985-4d06-8207-b634d6a6ce25\" name=\"files[]\" multiple disabled />\n",
              "     <output id=\"result-823ff8d1-8985-4d06-8207-b634d6a6ce25\">\n",
              "      Upload widget is only available when the cell has been executed in the\n",
              "      current browser session. Please rerun this cell to enable.\n",
              "      </output>\n",
              "      <script src=\"/nbextensions/google.colab/files.js\"></script> "
            ],
            "text/plain": [
              "<IPython.core.display.HTML object>"
            ]
          },
          "metadata": {
            "tags": []
          }
        },
        {
          "output_type": "stream",
          "text": [
            "Saving train.csv to train.csv\n",
            "User uploaded file \"train.csv\" with length 73297027 bytes\n"
          ],
          "name": "stdout"
        }
      ]
    },
    {
      "cell_type": "code",
      "metadata": {
        "id": "-pOv2MYs6Yaz",
        "colab_type": "code",
        "colab": {
          "base_uri": "https://localhost:8080/",
          "height": 202
        },
        "outputId": "a8b7ff67-f851-4404-d9d4-502c3b479dd0"
      },
      "source": [
        "newsData = pd.read_csv(\"train.csv\")\n",
        "newsData.head()"
      ],
      "execution_count": 60,
      "outputs": [
        {
          "output_type": "execute_result",
          "data": {
            "text/html": [
              "<div>\n",
              "<style scoped>\n",
              "    .dataframe tbody tr th:only-of-type {\n",
              "        vertical-align: middle;\n",
              "    }\n",
              "\n",
              "    .dataframe tbody tr th {\n",
              "        vertical-align: top;\n",
              "    }\n",
              "\n",
              "    .dataframe thead th {\n",
              "        text-align: right;\n",
              "    }\n",
              "</style>\n",
              "<table border=\"1\" class=\"dataframe\">\n",
              "  <thead>\n",
              "    <tr style=\"text-align: right;\">\n",
              "      <th></th>\n",
              "      <th>label</th>\n",
              "      <th>title</th>\n",
              "      <th>text</th>\n",
              "    </tr>\n",
              "  </thead>\n",
              "  <tbody>\n",
              "    <tr>\n",
              "      <th>0</th>\n",
              "      <td>news</td>\n",
              "      <td>China and Economic Reform: Xi Jinping’s Track ...</td>\n",
              "      <td>Economists generally agree: China must overhau...</td>\n",
              "    </tr>\n",
              "    <tr>\n",
              "      <th>1</th>\n",
              "      <td>news</td>\n",
              "      <td>Trade to Be a Big Topic in Theresa May’s U.S. ...</td>\n",
              "      <td>LONDON—British Prime Minister Theresa May said...</td>\n",
              "    </tr>\n",
              "    <tr>\n",
              "      <th>2</th>\n",
              "      <td>clickbait</td>\n",
              "      <td>The Top Beaches In The World, According To Nat...</td>\n",
              "      <td>Beaches come in all sorts of shapes and sizes ...</td>\n",
              "    </tr>\n",
              "    <tr>\n",
              "      <th>3</th>\n",
              "      <td>clickbait</td>\n",
              "      <td>Sheriff’s Report Provides New Details on Tamir...</td>\n",
              "      <td>A timeline of what happened after Tamir Rice, ...</td>\n",
              "    </tr>\n",
              "    <tr>\n",
              "      <th>4</th>\n",
              "      <td>news</td>\n",
              "      <td>Surgeon claiming he will transplant volunteer'...</td>\n",
              "      <td>An Italian neurosurgeon who has claimed for mo...</td>\n",
              "    </tr>\n",
              "  </tbody>\n",
              "</table>\n",
              "</div>"
            ],
            "text/plain": [
              "       label  ...                                               text\n",
              "0       news  ...  Economists generally agree: China must overhau...\n",
              "1       news  ...  LONDON—British Prime Minister Theresa May said...\n",
              "2  clickbait  ...  Beaches come in all sorts of shapes and sizes ...\n",
              "3  clickbait  ...  A timeline of what happened after Tamir Rice, ...\n",
              "4       news  ...  An Italian neurosurgeon who has claimed for mo...\n",
              "\n",
              "[5 rows x 3 columns]"
            ]
          },
          "metadata": {
            "tags": []
          },
          "execution_count": 60
        }
      ]
    },
    {
      "cell_type": "code",
      "metadata": {
        "id": "ohnG1sEE6rtw",
        "colab_type": "code",
        "colab": {
          "base_uri": "https://localhost:8080/",
          "height": 156
        },
        "outputId": "38970905-88ba-4615-c352-864ee5eb536e"
      },
      "source": [
        "newsData.info()"
      ],
      "execution_count": 61,
      "outputs": [
        {
          "output_type": "stream",
          "text": [
            "<class 'pandas.core.frame.DataFrame'>\n",
            "RangeIndex: 24871 entries, 0 to 24870\n",
            "Data columns (total 3 columns):\n",
            "label    24871 non-null object\n",
            "title    19947 non-null object\n",
            "text     24788 non-null object\n",
            "dtypes: object(3)\n",
            "memory usage: 583.0+ KB\n"
          ],
          "name": "stdout"
        }
      ]
    },
    {
      "cell_type": "code",
      "metadata": {
        "id": "0NaiJkaN6y8u",
        "colab_type": "code",
        "colab": {
          "base_uri": "https://localhost:8080/",
          "height": 35
        },
        "outputId": "f39333a4-7bef-48db-9b23-f25a7d5a50c4"
      },
      "source": [
        "newsData.label.unique()"
      ],
      "execution_count": 62,
      "outputs": [
        {
          "output_type": "execute_result",
          "data": {
            "text/plain": [
              "array(['news', 'clickbait', 'other'], dtype=object)"
            ]
          },
          "metadata": {
            "tags": []
          },
          "execution_count": 62
        }
      ]
    },
    {
      "cell_type": "code",
      "metadata": {
        "id": "F93OMND567my",
        "colab_type": "code",
        "colab": {}
      },
      "source": [
        "#removing all rows with unspecified label\n",
        "newsData = newsData[newsData.label != 'other']"
      ],
      "execution_count": 0,
      "outputs": []
    },
    {
      "cell_type": "code",
      "metadata": {
        "id": "4RuKlsLQ8oCH",
        "colab_type": "code",
        "colab": {
          "base_uri": "https://localhost:8080/",
          "height": 35
        },
        "outputId": "30da5fa3-2db9-47e3-8af3-4841893d8cf1"
      },
      "source": [
        "newsData.label.unique()"
      ],
      "execution_count": 64,
      "outputs": [
        {
          "output_type": "execute_result",
          "data": {
            "text/plain": [
              "array(['news', 'clickbait'], dtype=object)"
            ]
          },
          "metadata": {
            "tags": []
          },
          "execution_count": 64
        }
      ]
    },
    {
      "cell_type": "code",
      "metadata": {
        "id": "crkdh5-G-8Gm",
        "colab_type": "code",
        "colab": {
          "base_uri": "https://localhost:8080/",
          "height": 156
        },
        "outputId": "8ec65a0b-c674-44cf-c80a-a05dd4af761a"
      },
      "source": [
        "newsData.info()"
      ],
      "execution_count": 65,
      "outputs": [
        {
          "output_type": "stream",
          "text": [
            "<class 'pandas.core.frame.DataFrame'>\n",
            "Int64Index: 18398 entries, 0 to 24870\n",
            "Data columns (total 3 columns):\n",
            "label    18398 non-null object\n",
            "title    18398 non-null object\n",
            "text     18330 non-null object\n",
            "dtypes: object(3)\n",
            "memory usage: 574.9+ KB\n"
          ],
          "name": "stdout"
        }
      ]
    },
    {
      "cell_type": "code",
      "metadata": {
        "id": "cDV6vPJr_HRq",
        "colab_type": "code",
        "colab": {
          "base_uri": "https://localhost:8080/",
          "height": 156
        },
        "outputId": "12a421a1-d2d9-46ff-f102-8b8157f57d61"
      },
      "source": [
        "#Cleaning the remaining data\n",
        "newsData = newsData.dropna(axis=0)\n",
        "newsData.reset_index(drop=True, inplace=True)\n",
        "newsData.info()"
      ],
      "execution_count": 66,
      "outputs": [
        {
          "output_type": "stream",
          "text": [
            "<class 'pandas.core.frame.DataFrame'>\n",
            "RangeIndex: 18330 entries, 0 to 18329\n",
            "Data columns (total 3 columns):\n",
            "label    18330 non-null object\n",
            "title    18330 non-null object\n",
            "text     18330 non-null object\n",
            "dtypes: object(3)\n",
            "memory usage: 429.7+ KB\n"
          ],
          "name": "stdout"
        }
      ]
    },
    {
      "cell_type": "code",
      "metadata": {
        "id": "42xoT68F_czC",
        "colab_type": "code",
        "colab": {}
      },
      "source": [
        "from sklearn.pipeline import Pipeline\n",
        "from sklearn.feature_extraction.text import CountVectorizer, TfidfTransformer\n",
        "from sklearn.model_selection import train_test_split\n",
        "from sklearn.naive_bayes import MultinomialNB\n",
        "from sklearn.linear_model import SGDClassifier"
      ],
      "execution_count": 0,
      "outputs": []
    },
    {
      "cell_type": "code",
      "metadata": {
        "id": "3x_WsD3_FIM_",
        "colab_type": "code",
        "colab": {}
      },
      "source": [
        "## Create a pipeline\n",
        "clf = Pipeline([('vect', CountVectorizer()), \n",
        "                ('tfidf', TfidfTransformer()), \n",
        "                ('clf', MultinomialNB())])"
      ],
      "execution_count": 0,
      "outputs": []
    },
    {
      "cell_type": "code",
      "metadata": {
        "id": "12o3jeXdFfDz",
        "colab_type": "code",
        "colab": {}
      },
      "source": [
        "X = newsData.title\n",
        "y = newsData.label"
      ],
      "execution_count": 0,
      "outputs": []
    },
    {
      "cell_type": "code",
      "metadata": {
        "id": "GSZyINdKL4m2",
        "colab_type": "code",
        "colab": {
          "base_uri": "https://localhost:8080/",
          "height": 121
        },
        "outputId": "728bd61c-893c-45a3-8dba-059f85a06d3f"
      },
      "source": [
        "y.head()"
      ],
      "execution_count": 70,
      "outputs": [
        {
          "output_type": "execute_result",
          "data": {
            "text/plain": [
              "0         news\n",
              "1         news\n",
              "2    clickbait\n",
              "3    clickbait\n",
              "4         news\n",
              "Name: label, dtype: object"
            ]
          },
          "metadata": {
            "tags": []
          },
          "execution_count": 70
        }
      ]
    },
    {
      "cell_type": "code",
      "metadata": {
        "id": "zHHxE_jGL8v2",
        "colab_type": "code",
        "colab": {}
      },
      "source": [
        "for i in range(18330):\n",
        "  if y[i]=='clickbait':\n",
        "    y[i]=True\n",
        "  else:\n",
        "    y[i]=False"
      ],
      "execution_count": 0,
      "outputs": []
    },
    {
      "cell_type": "code",
      "metadata": {
        "id": "diTTuSy0Nzn7",
        "colab_type": "code",
        "colab": {}
      },
      "source": [
        "y=y.astype('bool')"
      ],
      "execution_count": 0,
      "outputs": []
    },
    {
      "cell_type": "code",
      "metadata": {
        "id": "PHebx-fdNTM9",
        "colab_type": "code",
        "colab": {
          "base_uri": "https://localhost:8080/",
          "height": 121
        },
        "outputId": "5e7e3ebf-5004-40f2-97f1-02385f9d0ceb"
      },
      "source": [
        "y.head()"
      ],
      "execution_count": 77,
      "outputs": [
        {
          "output_type": "execute_result",
          "data": {
            "text/plain": [
              "0    False\n",
              "1    False\n",
              "2     True\n",
              "3     True\n",
              "4    False\n",
              "Name: label, dtype: bool"
            ]
          },
          "metadata": {
            "tags": []
          },
          "execution_count": 77
        }
      ]
    },
    {
      "cell_type": "code",
      "metadata": {
        "id": "AZZxVfJ6F0kj",
        "colab_type": "code",
        "colab": {}
      },
      "source": [
        "X_train, X_test, y_train, y_test = train_test_split(X, y, test_size=0.25)"
      ],
      "execution_count": 0,
      "outputs": []
    },
    {
      "cell_type": "code",
      "metadata": {
        "id": "OpOwYVJ0F1o3",
        "colab_type": "code",
        "colab": {
          "base_uri": "https://localhost:8080/",
          "height": 303
        },
        "outputId": "aebacbf5-f9d0-4c79-a4db-1ec548f673fd"
      },
      "source": [
        "sb.countplot(newsData.label)"
      ],
      "execution_count": 79,
      "outputs": [
        {
          "output_type": "execute_result",
          "data": {
            "text/plain": [
              "<matplotlib.axes._subplots.AxesSubplot at 0x7fe237438208>"
            ]
          },
          "metadata": {
            "tags": []
          },
          "execution_count": 79
        },
        {
          "output_type": "display_data",
          "data": {
            "image/png": "[encoded data removed]",
            "text/plain": [
              "<Figure size 432x288 with 1 Axes>"
            ]
          },
          "metadata": {
            "tags": []
          }
        }
      ]
    },
    {
      "cell_type": "code",
      "metadata": {
        "id": "zfviMHRrGRJr",
        "colab_type": "code",
        "colab": {}
      },
      "source": [
        "clf = clf.fit(X_train, y_train)"
      ],
      "execution_count": 0,
      "outputs": []
    },
    {
      "cell_type": "code",
      "metadata": {
        "id": "Si1rOLaCKHx-",
        "colab_type": "code",
        "colab": {}
      },
      "source": [
        "from sklearn.metrics import confusion_matrix"
      ],
      "execution_count": 0,
      "outputs": []
    },
    {
      "cell_type": "code",
      "metadata": {
        "id": "WHwz3DJsGkWE",
        "colab_type": "code",
        "colab": {
          "base_uri": "https://localhost:8080/",
          "height": 493
        },
        "outputId": "1f34b921-d736-4433-bd91-b05c13a9d832"
      },
      "source": [
        "y_train_pred = clf.predict(X_train)\n",
        "y_test_pred = clf.predict(X_test)\n",
        "print(\"Classification Accuracy (Train) \\t:\", clf.score(X_train, y_train))\n",
        "print(\"Classification Accuracy (Test)  \\t:\", clf.score(X_test, y_test))\n",
        "print(\"\\n\\n\")\n",
        "f, axes = plt.subplots(1, 2, figsize=(12, 4))\n",
        "sb.heatmap(confusion_matrix(y_train, y_train_pred),\n",
        "           annot = True, fmt=\".0f\", annot_kws={\"size\": 18}, ax = axes[0])\n",
        "sb.heatmap(confusion_matrix(y_test, y_test_pred), \n",
        "           annot = True, fmt=\".0f\", annot_kws={\"size\": 18}, ax = axes[1])\n",
        "\n",
        "trainMat = confusion_matrix(y_train, y_train_pred)\n",
        "tpTrain, tnTrain, fpTrain, fnTrain = trainMat[1][1], trainMat[0][0], trainMat[0][1], trainMat[1][0]\n",
        "testMat = confusion_matrix(y_test, y_test_pred)\n",
        "tpTest, tnTest, fpTest, fnTest = testMat[1][1], testMat[0][0], testMat[0][1], testMat[1][0]\n",
        "    \n",
        "fprTrain, fprTest = fpTrain/(tnTrain+fpTrain), fpTest/(tnTest+fpTest)\n",
        "fnrTrain, fnrTest = fnTrain/(tpTrain+fnTrain), fnTest/(tpTest+fnTest)\n",
        "tprTrain, tprTest = tpTrain/(tpTrain+fnTrain), tpTest/(tpTest+fnTest)\n",
        "tnrTrain, tnrTest = tnTrain/(tnTrain+fpTrain), tnTest/(tnTest+fpTest)\n",
        "    \n",
        "print(\"\\t\\t\\tTrain\\tTest\")\n",
        "print(\"True Positive Rate: \\t%.4f\\t%.4f\"%(tprTrain, tprTest))\n",
        "print(\"True Negative Rate: \\t%.4f\\t%.4f\"%(tnrTrain, tnrTest))\n",
        "print(\"False Positive Rate:\\t%.4f\\t%.4f\"%(fprTrain, fprTest))\n",
        "print(\"False Negative Rate:\\t%.4f\\t%.4f\"%(fnrTrain, fnrTest))\n",
        "print(\"\\n\\n\")"
      ],
      "execution_count": 82,
      "outputs": [
        {
          "output_type": "stream",
          "text": [
            "Classification Accuracy (Train) \t: 0.8111587982832618\n",
            "Classification Accuracy (Test)  \t: 0.8027492908575169\n",
            "\n",
            "\n",
            "\n",
            "\t\t\tTrain\tTest\n",
            "True Positive Rate: \t0.0767\t0.0228\n",
            "True Negative Rate: \t0.9992\t0.9992\n",
            "False Positive Rate:\t0.0008\t0.0008\n",
            "False Negative Rate:\t0.9233\t0.9772\n",
            "\n",
            "\n",
            "\n"
          ],
          "name": "stdout"
        },
        {
          "output_type": "display_data",
          "data": {
            "image/png": "[encoded data removed]",
            "text/plain": [
              "<Figure size 864x288 with 4 Axes>"
            ]
          },
          "metadata": {
            "tags": []
          }
        }
      ]
    },
    {
      "cell_type": "code",
      "metadata": {
        "id": "umyk7aiBI4ma",
        "colab_type": "code",
        "colab": {}
      },
      "source": [
        "def testModel(X, y):\n",
        "  clf = Pipeline([('vect', CountVectorizer(ngram_range=(1,3), min_df=0.0001)), \n",
        "                ('clf', MultinomialNB())])\n",
        "  X_train, X_test, y_train, y_test = train_test_split(X, y, test_size=0.25, random_state=42)\n",
        "  clf = clf.fit(X_train, y_train)\n",
        "\n",
        "  y_train_pred = clf.predict(X_train)\n",
        "  y_test_pred = clf.predict(X_test)\n",
        "  print(\"Classification Accuracy (Train) \\t:\", clf.score(X_train, y_train))\n",
        "  print(\"Classification Accuracy (Test)  \\t:\", clf.score(X_test, y_test))\n",
        "  print(\"\\n\\n\")\n",
        "  f, axes = plt.subplots(1, 2, figsize=(12, 4))\n",
        "  sb.heatmap(confusion_matrix(y_train, y_train_pred),\n",
        "           annot = True, fmt=\".0f\", annot_kws={\"size\": 18}, ax = axes[0])\n",
        "  sb.heatmap(confusion_matrix(y_test, y_test_pred), \n",
        "           annot = True, fmt=\".0f\", annot_kws={\"size\": 18}, ax = axes[1])\n",
        "\n",
        "  trainMat = confusion_matrix(y_train, y_train_pred)\n",
        "  tpTrain, tnTrain, fpTrain, fnTrain = trainMat[1][1], trainMat[0][0], trainMat[0][1], trainMat[1][0]\n",
        "  testMat = confusion_matrix(y_test, y_test_pred)\n",
        "  tpTest, tnTest, fpTest, fnTest = testMat[1][1], testMat[0][0], testMat[0][1], testMat[1][0]\n",
        "    \n",
        "  fprTrain, fprTest = fpTrain/(tnTrain+fpTrain), fpTest/(tnTest+fpTest)\n",
        "  fnrTrain, fnrTest = fnTrain/(tpTrain+fnTrain), fnTest/(tpTest+fnTest)\n",
        "  tprTrain, tprTest = tpTrain/(tpTrain+fnTrain), tpTest/(tpTest+fnTest)\n",
        "  tnrTrain, tnrTest = tnTrain/(tnTrain+fpTrain), tnTest/(tnTest+fpTest)\n",
        "    \n",
        "  print(\"\\t\\t\\tTrain\\tTest\")\n",
        "  print(\"True Positive Rate: \\t%.4f\\t%.4f\"%(tprTrain, tprTest))\n",
        "  print(\"True Negative Rate: \\t%.4f\\t%.4f\"%(tnrTrain, tnrTest))\n",
        "  print(\"False Positive Rate:\\t%.4f\\t%.4f\"%(fprTrain, fprTest))\n",
        "  print(\"False Negative Rate:\\t%.4f\\t%.4f\"%(fnrTrain, fnrTest))\n",
        "  print(\"\\n\\n\")"
      ],
      "execution_count": 0,
      "outputs": []
    },
    {
      "cell_type": "code",
      "metadata": {
        "id": "Up732dLTPH74",
        "colab_type": "code",
        "colab": {
          "base_uri": "https://localhost:8080/",
          "height": 497
        },
        "outputId": "c913ea28-913d-4a31-c4dd-9c2b1de219a7"
      },
      "source": [
        "testModel(X, y)"
      ],
      "execution_count": 269,
      "outputs": [
        {
          "output_type": "stream",
          "text": [
            "Classification Accuracy (Train) \t: 0.8889939623190515\n",
            "Classification Accuracy (Test)  \t: 0.7894392319441413\n",
            "\n",
            "\n",
            "\n",
            "\t\t\tTrain\tTest\n",
            "True Positive Rate: \t0.7901\t0.4280\n",
            "True Negative Rate: \t0.9140\t0.8841\n",
            "False Positive Rate:\t0.0860\t0.1159\n",
            "False Negative Rate:\t0.2099\t0.5720\n",
            "\n",
            "\n",
            "\n"
          ],
          "name": "stdout"
        },
        {
          "output_type": "display_data",
          "data": {
            "image/png": "[encoded data removed]",
            "text/plain": [
              "<Figure size 864x288 with 4 Axes>"
            ]
          },
          "metadata": {
            "tags": []
          }
        }
      ]
    },
    {
      "cell_type": "code",
      "metadata": {
        "id": "2uU5k5DWPP5J",
        "colab_type": "code",
        "colab": {
          "base_uri": "https://localhost:8080/",
          "height": 35
        },
        "outputId": "bc3b522f-50f1-49bf-a898-ee9cc9c46397"
      },
      "source": [
        "clf.predict([\"5 things you didn't know\"])"
      ],
      "execution_count": 175,
      "outputs": [
        {
          "output_type": "execute_result",
          "data": {
            "text/plain": [
              "array([ True])"
            ]
          },
          "metadata": {
            "tags": []
          },
          "execution_count": 175
        }
      ]
    },
    {
      "cell_type": "code",
      "metadata": {
        "id": "6NxVMgY7t1OQ",
        "colab_type": "code",
        "colab": {}
      },
      "source": [
        "from nltk.tokenize import word_tokenize\n",
        "from nltk.corpus import stopwords\n",
        "from nltk.stem import PorterStemmer\n",
        "from wordcloud import WordCloud\n",
        "from math import log, sqrt\n",
        "import re\n",
        "%matplotlib inline"
      ],
      "execution_count": 0,
      "outputs": []
    },
    {
      "cell_type": "code",
      "metadata": {
        "id": "oNNdIOTov_v6",
        "colab_type": "code",
        "colab": {}
      },
      "source": [
        "def process_text(text, lower_case = True, stem = True, stop_words = True, gram = 1):\n",
        "    if lower_case:\n",
        "        text = text.lower()\n",
        "    words = word_tokenize(text)\n",
        "    words = [w for w in words if len(w) > 2]\n",
        "    if gram > 1:\n",
        "        w = []\n",
        "        for i in range(len(words) - gram + 1):\n",
        "            w += [' '.join(words[i:i + gram])]\n",
        "        return w\n",
        "    if stop_words:\n",
        "        sw = stopwords.words('english')\n",
        "        words = [word for word in words if word not in sw]\n",
        "    if stem:\n",
        "        stemmer = PorterStemmer()\n",
        "        words = [stemmer.stem(word) for word in words]   \n",
        "    return words"
      ],
      "execution_count": 0,
      "outputs": []
    },
    {
      "cell_type": "code",
      "metadata": {
        "id": "hkU07yZbwZ78",
        "colab_type": "code",
        "colab": {
          "base_uri": "https://localhost:8080/",
          "height": 202
        },
        "outputId": "c6877d92-5799-46b9-faf1-2d7d8b1a6829"
      },
      "source": [
        "newsData.head()"
      ],
      "execution_count": 193,
      "outputs": [
        {
          "output_type": "execute_result",
          "data": {
            "text/html": [
              "<div>\n",
              "<style scoped>\n",
              "    .dataframe tbody tr th:only-of-type {\n",
              "        vertical-align: middle;\n",
              "    }\n",
              "\n",
              "    .dataframe tbody tr th {\n",
              "        vertical-align: top;\n",
              "    }\n",
              "\n",
              "    .dataframe thead th {\n",
              "        text-align: right;\n",
              "    }\n",
              "</style>\n",
              "<table border=\"1\" class=\"dataframe\">\n",
              "  <thead>\n",
              "    <tr style=\"text-align: right;\">\n",
              "      <th></th>\n",
              "      <th>label</th>\n",
              "      <th>title</th>\n",
              "      <th>text</th>\n",
              "    </tr>\n",
              "  </thead>\n",
              "  <tbody>\n",
              "    <tr>\n",
              "      <th>0</th>\n",
              "      <td>False</td>\n",
              "      <td>China and Economic Reform: Xi Jinping’s Track ...</td>\n",
              "      <td>Economists generally agree: China must overhau...</td>\n",
              "    </tr>\n",
              "    <tr>\n",
              "      <th>1</th>\n",
              "      <td>False</td>\n",
              "      <td>Trade to Be a Big Topic in Theresa May’s U.S. ...</td>\n",
              "      <td>LONDON—British Prime Minister Theresa May said...</td>\n",
              "    </tr>\n",
              "    <tr>\n",
              "      <th>2</th>\n",
              "      <td>True</td>\n",
              "      <td>The Top Beaches In The World, According To Nat...</td>\n",
              "      <td>Beaches come in all sorts of shapes and sizes ...</td>\n",
              "    </tr>\n",
              "    <tr>\n",
              "      <th>3</th>\n",
              "      <td>True</td>\n",
              "      <td>Sheriff’s Report Provides New Details on Tamir...</td>\n",
              "      <td>A timeline of what happened after Tamir Rice, ...</td>\n",
              "    </tr>\n",
              "    <tr>\n",
              "      <th>4</th>\n",
              "      <td>False</td>\n",
              "      <td>Surgeon claiming he will transplant volunteer'...</td>\n",
              "      <td>An Italian neurosurgeon who has claimed for mo...</td>\n",
              "    </tr>\n",
              "  </tbody>\n",
              "</table>\n",
              "</div>"
            ],
            "text/plain": [
              "   label  ...                                               text\n",
              "0  False  ...  Economists generally agree: China must overhau...\n",
              "1  False  ...  LONDON—British Prime Minister Theresa May said...\n",
              "2   True  ...  Beaches come in all sorts of shapes and sizes ...\n",
              "3   True  ...  A timeline of what happened after Tamir Rice, ...\n",
              "4  False  ...  An Italian neurosurgeon who has claimed for mo...\n",
              "\n",
              "[5 rows x 3 columns]"
            ]
          },
          "metadata": {
            "tags": []
          },
          "execution_count": 193
        }
      ]
    },
    {
      "cell_type": "code",
      "metadata": {
        "id": "tCkj-ZHIvdAw",
        "colab_type": "code",
        "colab": {
          "base_uri": "https://localhost:8080/",
          "height": 104
        },
        "outputId": "70c6d8ad-2945-463a-d99a-ad81e7257b08"
      },
      "source": [
        "import nltk\n",
        "nltk.download('punkt')\n",
        "nltk.download('stopwords')"
      ],
      "execution_count": 185,
      "outputs": [
        {
          "output_type": "stream",
          "text": [
            "[nltk_data] Downloading package punkt to /root/nltk_data...\n",
            "[nltk_data]   Package punkt is already up-to-date!\n",
            "[nltk_data] Downloading package stopwords to /root/nltk_data...\n",
            "[nltk_data]   Unzipping corpora/stopwords.zip.\n"
          ],
          "name": "stdout"
        },
        {
          "output_type": "execute_result",
          "data": {
            "text/plain": [
              "True"
            ]
          },
          "metadata": {
            "tags": []
          },
          "execution_count": 185
        }
      ]
    },
    {
      "cell_type": "code",
      "metadata": {
        "id": "D9GwaM-81d1W",
        "colab_type": "code",
        "colab": {
          "base_uri": "https://localhost:8080/",
          "height": 202
        },
        "outputId": "9010a866-e739-4d1f-993c-2add207884bd"
      },
      "source": [
        "textData = pd.concat([newsData['text'], newsData['label'].reindex(index=newsData['text'].index)], sort = False, axis = 1)\n",
        "trainData = textData[:13748]\n",
        "testData = textData[13748:]\n",
        "trainData.head()"
      ],
      "execution_count": 214,
      "outputs": [
        {
          "output_type": "execute_result",
          "data": {
            "text/html": [
              "<div>\n",
              "<style scoped>\n",
              "    .dataframe tbody tr th:only-of-type {\n",
              "        vertical-align: middle;\n",
              "    }\n",
              "\n",
              "    .dataframe tbody tr th {\n",
              "        vertical-align: top;\n",
              "    }\n",
              "\n",
              "    .dataframe thead th {\n",
              "        text-align: right;\n",
              "    }\n",
              "</style>\n",
              "<table border=\"1\" class=\"dataframe\">\n",
              "  <thead>\n",
              "    <tr style=\"text-align: right;\">\n",
              "      <th></th>\n",
              "      <th>text</th>\n",
              "      <th>label</th>\n",
              "    </tr>\n",
              "  </thead>\n",
              "  <tbody>\n",
              "    <tr>\n",
              "      <th>0</th>\n",
              "      <td>Economists generally agree: China must overhau...</td>\n",
              "      <td>False</td>\n",
              "    </tr>\n",
              "    <tr>\n",
              "      <th>1</th>\n",
              "      <td>LONDON—British Prime Minister Theresa May said...</td>\n",
              "      <td>False</td>\n",
              "    </tr>\n",
              "    <tr>\n",
              "      <th>2</th>\n",
              "      <td>Beaches come in all sorts of shapes and sizes ...</td>\n",
              "      <td>True</td>\n",
              "    </tr>\n",
              "    <tr>\n",
              "      <th>3</th>\n",
              "      <td>A timeline of what happened after Tamir Rice, ...</td>\n",
              "      <td>True</td>\n",
              "    </tr>\n",
              "    <tr>\n",
              "      <th>4</th>\n",
              "      <td>An Italian neurosurgeon who has claimed for mo...</td>\n",
              "      <td>False</td>\n",
              "    </tr>\n",
              "  </tbody>\n",
              "</table>\n",
              "</div>"
            ],
            "text/plain": [
              "                                                text  label\n",
              "0  Economists generally agree: China must overhau...  False\n",
              "1  LONDON—British Prime Minister Theresa May said...  False\n",
              "2  Beaches come in all sorts of shapes and sizes ...   True\n",
              "3  A timeline of what happened after Tamir Rice, ...   True\n",
              "4  An Italian neurosurgeon who has claimed for mo...  False"
            ]
          },
          "metadata": {
            "tags": []
          },
          "execution_count": 214
        }
      ]
    },
    {
      "cell_type": "code",
      "metadata": {
        "id": "IN0sjXt78TI8",
        "colab_type": "code",
        "colab": {
          "base_uri": "https://localhost:8080/",
          "height": 202
        },
        "outputId": "a6d5a89d-699e-4516-8c2a-751e8ca57130"
      },
      "source": [
        "testData.reset_index(drop=True, inplace=True)\n",
        "testData.head()"
      ],
      "execution_count": 215,
      "outputs": [
        {
          "output_type": "execute_result",
          "data": {
            "text/html": [
              "<div>\n",
              "<style scoped>\n",
              "    .dataframe tbody tr th:only-of-type {\n",
              "        vertical-align: middle;\n",
              "    }\n",
              "\n",
              "    .dataframe tbody tr th {\n",
              "        vertical-align: top;\n",
              "    }\n",
              "\n",
              "    .dataframe thead th {\n",
              "        text-align: right;\n",
              "    }\n",
              "</style>\n",
              "<table border=\"1\" class=\"dataframe\">\n",
              "  <thead>\n",
              "    <tr style=\"text-align: right;\">\n",
              "      <th></th>\n",
              "      <th>text</th>\n",
              "      <th>label</th>\n",
              "    </tr>\n",
              "  </thead>\n",
              "  <tbody>\n",
              "    <tr>\n",
              "      <th>0</th>\n",
              "      <td>Being a mum may be the most important job in t...</td>\n",
              "      <td>True</td>\n",
              "    </tr>\n",
              "    <tr>\n",
              "      <th>1</th>\n",
              "      <td>Just before the administration officially hits...</td>\n",
              "      <td>False</td>\n",
              "    </tr>\n",
              "    <tr>\n",
              "      <th>2</th>\n",
              "      <td>Everything happens again. Numbers. Milestones....</td>\n",
              "      <td>True</td>\n",
              "    </tr>\n",
              "    <tr>\n",
              "      <th>3</th>\n",
              "      <td>A team of contractors has arrived on Manus Isl...</td>\n",
              "      <td>False</td>\n",
              "    </tr>\n",
              "    <tr>\n",
              "      <th>4</th>\n",
              "      <td>The emergence of blockchain technology couldn'...</td>\n",
              "      <td>False</td>\n",
              "    </tr>\n",
              "  </tbody>\n",
              "</table>\n",
              "</div>"
            ],
            "text/plain": [
              "                                                text  label\n",
              "0  Being a mum may be the most important job in t...   True\n",
              "1  Just before the administration officially hits...  False\n",
              "2  Everything happens again. Numbers. Milestones....   True\n",
              "3  A team of contractors has arrived on Manus Isl...  False\n",
              "4  The emergence of blockchain technology couldn'...  False"
            ]
          },
          "metadata": {
            "tags": []
          },
          "execution_count": 215
        }
      ]
    },
    {
      "cell_type": "code",
      "metadata": {
        "id": "fgzCVx1XDA-R",
        "colab_type": "code",
        "colab": {
          "base_uri": "https://localhost:8080/",
          "height": 35
        },
        "outputId": "5352943f-a59d-40b4-ea23-1ce4ba2821d9"
      },
      "source": [
        "testData.shape"
      ],
      "execution_count": 223,
      "outputs": [
        {
          "output_type": "execute_result",
          "data": {
            "text/plain": [
              "(4582, 2)"
            ]
          },
          "metadata": {
            "tags": []
          },
          "execution_count": 223
        }
      ]
    },
    {
      "cell_type": "code",
      "metadata": {
        "id": "fURys0jNu-d_",
        "colab_type": "code",
        "colab": {}
      },
      "source": [
        "class ClickbaitClassifier(object): \n",
        "    def __init__(self, trainData, method = 'tf-idf'):\n",
        "        self.articles, self.labels = trainData['text'], trainData['label']\n",
        "        self.method = method\n",
        "\n",
        "    def train(self):\n",
        "        self.calc_TF_and_IDF()\n",
        "        if self.method == 'tf-idf':\n",
        "            self.calc_TF_IDF()\n",
        "        else:\n",
        "            self.calc_prob()\n",
        "\n",
        "    def calc_prob(self):\n",
        "        self.prob_bait = dict()\n",
        "        self.prob_safe = dict()\n",
        "        for word in self.tf_bait:\n",
        "            self.prob_bait[word] = (self.tf_bait[word] + 1) / (self.bait_words + len(list(self.tf_bait.keys())))\n",
        "        for word in self.tf_safe:\n",
        "            self.prob_safe[word] = (self.tf_safe[word] + 1) / (self.safe_words + len(list(self.tf_safe.keys())))\n",
        "        self.prob_clickbait, self.prob_news = self.clickbait / self.total_articles, self.news / self.total_articles\n",
        "\n",
        "\n",
        "    def calc_TF_and_IDF(self):\n",
        "        noOfArticles = self.articles.shape[0]\n",
        "        self.clickbait, self.news = self.labels.value_counts()[1], self.labels.value_counts()[0] # no. of articles of each type\n",
        "        self.total_articles = self.clickbait + self.news # same as noOfArticles\n",
        "        self.bait_words = 0  # count of words in clickbait articles\n",
        "        self.safe_words = 0  # count of words in news articles\n",
        "        self.tf_bait = dict()\n",
        "        self.tf_safe = dict()\n",
        "        self.idf_bait = dict()\n",
        "        self.idf_safe = dict()\n",
        "        for i in range(noOfArticles):\n",
        "            text_processed = process_text(self.articles[i])  # returns stemmed text without stopwords\n",
        "            count = list()  # To keep track of whether the word has ocured in an article or not. (For IDF)\n",
        "            for word in text_processed:\n",
        "                if self.labels[i]:  # word is in clickbait article\n",
        "                    self.tf_bait[word] = self.tf_bait.get(word, 0) + 1  # initializes to 1 if it didn't exist before, else incr by 1\n",
        "                    self.bait_words += 1\n",
        "                else:\n",
        "                    self.tf_safe[word] = self.tf_safe.get(word, 0) + 1\n",
        "                    self.safe_words += 1\n",
        "                if word not in count:\n",
        "                    count += [word]\n",
        "            for word in count:\n",
        "                if self.labels[i]:\n",
        "                    self.idf_bait[word] = self.idf_bait.get(word, 0) + 1\n",
        "                else:\n",
        "                    self.idf_safe[word] = self.idf_safe.get(word, 0) + 1\n",
        "\n",
        "    def calc_TF_IDF(self):\n",
        "        self.prob_bait = dict()\n",
        "        self.prob_safe = dict()\n",
        "        self.sum_tf_idf_bait = 0\n",
        "        self.sum_tf_idf_safe = 0\n",
        "        for word in self.tf_bait:\n",
        "            self.prob_bait[word] = (self.tf_bait[word]) * log((self.clickbait + self.news) / (self.idf_bait[word] + self.idf_safe.get(word, 0)))\n",
        "            self.sum_tf_idf_bait += self.prob_bait[word]\n",
        "        for word in self.tf_bait:\n",
        "            self.prob_bait[word] = (self.prob_bait[word] + 1) / (self.sum_tf_idf_bait + len(list(self.prob_bait.keys())))\n",
        "        for word in self.tf_safe:\n",
        "            self.prob_safe[word] = (self.tf_safe[word]) * log((self.clickbait + self.news) / (self.idf_bait.get(word, 0) + self.idf_safe[word]))\n",
        "            self.sum_tf_idf_safe += self.prob_safe[word]\n",
        "        for word in self.tf_safe:\n",
        "            self.prob_safe[word] = (self.prob_safe[word] + 1) / (self.sum_tf_idf_safe + len(list(self.prob_safe.keys())))\n",
        "            \n",
        "    \n",
        "        self.prob_clickbait, self.prob_news = self.clickbait / self.total_articles, self.news / self.total_articles \n",
        "                    \n",
        "    def classify(self, processed_text):\n",
        "        pBait, pSafe = 0, 0\n",
        "        for word in processed_text:                \n",
        "            if word in self.prob_bait:\n",
        "                pBait += log(self.prob_bait[word])\n",
        "            else:\n",
        "                if self.method == 'tf-idf':\n",
        "                    pBait -= log(self.sum_tf_idf_bait + len(list(self.prob_bait.keys())))\n",
        "                else:\n",
        "                    pBait -= log(self.bait_words + len(list(self.prob_bait.keys())))\n",
        "            if word in self.prob_safe:\n",
        "                pSafe += log(self.prob_safe[word])\n",
        "            else:\n",
        "                if self.method == 'tf-idf':\n",
        "                    pSafe -= log(self.sum_tf_idf_safe + len(list(self.prob_safe.keys()))) \n",
        "                else:\n",
        "                    pSafe -= log(self.safe_words + len(list(self.prob_safe.keys())))\n",
        "            pBait += log(self.prob_clickbait)\n",
        "            pSafe += log(self.prob_news)\n",
        "        return pBait >= pSafe\n",
        "\n",
        "    def predict(self, testData):\n",
        "        result = dict()\n",
        "        for i in range(testData.shape[0]):\n",
        "            processed_text = process_text(testData['text'][i])\n",
        "            result[i] = int(self.classify(processed_text))\n",
        "        return result"
      ],
      "execution_count": 0,
      "outputs": []
    },
    {
      "cell_type": "code",
      "metadata": {
        "id": "1HGmGJnoxiVw",
        "colab_type": "code",
        "colab": {}
      },
      "source": [
        "sc_tf_idf = ClickbaitClassifier(trainData, 'tf')\n",
        "sc_tf_idf.train()"
      ],
      "execution_count": 0,
      "outputs": []
    },
    {
      "cell_type": "code",
      "metadata": {
        "id": "KtnGvXZl3r6e",
        "colab_type": "code",
        "colab": {}
      },
      "source": [
        "preds_tf_idf = sc_tf_idf.predict(testData)"
      ],
      "execution_count": 0,
      "outputs": []
    },
    {
      "cell_type": "code",
      "metadata": {
        "id": "lovP-AERNrhz",
        "colab_type": "code",
        "colab": {
          "base_uri": "https://localhost:8080/",
          "height": 35
        },
        "outputId": "57dfe7e4-55c9-4315-d959-0d4953685c92"
      },
      "source": [
        "sum=0\n",
        "for val in preds_tf_idf:\n",
        "  if val==1:\n",
        "    sum+=1\n",
        "print(sum)"
      ],
      "execution_count": 240,
      "outputs": [
        {
          "output_type": "stream",
          "text": [
            "1\n"
          ],
          "name": "stdout"
        }
      ]
    },
    {
      "cell_type": "code",
      "metadata": {
        "id": "ttYcCDTyRmzF",
        "colab_type": "code",
        "colab": {}
      },
      "source": [
        "X2 = newsData.text"
      ],
      "execution_count": 0,
      "outputs": []
    },
    {
      "cell_type": "code",
      "metadata": {
        "id": "fyX1EbnnXjxb",
        "colab_type": "code",
        "colab": {
          "base_uri": "https://localhost:8080/",
          "height": 493
        },
        "outputId": "26c5cb35-f856-4c2d-c26e-76378f12be50"
      },
      "source": [
        "testModel(X2, y)"
      ],
      "execution_count": 256,
      "outputs": [
        {
          "output_type": "stream",
          "text": [
            "Classification Accuracy (Train) \t: 0.9497344875245508\n",
            "Classification Accuracy (Test)  \t: 0.8193323150774602\n",
            "\n",
            "\n",
            "\n",
            "\t\t\tTrain\tTest\n",
            "True Positive Rate: \t0.9185\t0.3838\n",
            "True Negative Rate: \t0.9576\t0.9334\n",
            "False Positive Rate:\t0.0424\t0.0666\n",
            "False Negative Rate:\t0.0815\t0.6162\n",
            "\n",
            "\n",
            "\n"
          ],
          "name": "stdout"
        },
        {
          "output_type": "display_data",
          "data": {
            "image/png": "[encoded data removed]",
            "text/plain": [
              "<Figure size 864x288 with 4 Axes>"
            ]
          },
          "metadata": {
            "tags": []
          }
        }
      ]
    },
    {
      "cell_type": "code",
      "metadata": {
        "id": "UzSelA_8XmK-",
        "colab_type": "code",
        "colab": {}
      },
      "source": [
        "def doubleModel(newsData):\n",
        "  clf = Pipeline([('vect', CountVectorizer(ngram_range=(1,3), min_df=0.0001)), \n",
        "                ('clf', MultinomialNB())])\n",
        "  \n",
        "  X = newsData.title\n",
        "  y = newsData.label\n",
        "  y=y.astype('bool')\n",
        "  X_train, X_test, y_train, y_test = train_test_split(X, y, test_size=0.25, random_state=42)\n",
        "  clf = clf.fit(X_train, y_train)\n",
        "\n",
        "  y_train_title_pred = clf.predict(X_train)\n",
        "  y_test_title_pred = clf.predict(X_test)\n",
        "  \n",
        "  X = newsData.text\n",
        "  X_train, X_test, y_train, y_test = train_test_split(X, y, test_size=0.25, random_state=42)\n",
        "  clf = clf.fit(X_train, y_train)\n",
        "\n",
        "  y_train_text_pred = clf.predict(X_train)\n",
        "  y_test_text_pred = clf.predict(X_test)\n",
        "\n",
        "  y_train_pred = pd.DataFrame(y_train_title_pred | y_train_text_pred)\n",
        "  y_test_pred = pd.DataFrame(y_test_title_pred | y_test_text_pred)\n",
        "  f, axes = plt.subplots(1, 2, figsize=(12, 4))\n",
        "  sb.heatmap(confusion_matrix(y_train, y_train_pred),\n",
        "           annot = True, fmt=\".0f\", annot_kws={\"size\": 18}, ax = axes[0])\n",
        "  sb.heatmap(confusion_matrix(y_test, y_test_pred), \n",
        "           annot = True, fmt=\".0f\", annot_kws={\"size\": 18}, ax = axes[1])\n",
        "\n",
        "  trainMat = confusion_matrix(y_train, y_train_pred)\n",
        "  tpTrain, tnTrain, fpTrain, fnTrain = trainMat[1][1], trainMat[0][0], trainMat[0][1], trainMat[1][0]\n",
        "  testMat = confusion_matrix(y_test, y_test_pred)\n",
        "  tpTest, tnTest, fpTest, fnTest = testMat[1][1], testMat[0][0], testMat[0][1], testMat[1][0]\n",
        "    \n",
        "  fprTrain, fprTest = fpTrain/(tnTrain+fpTrain), fpTest/(tnTest+fpTest)\n",
        "  fnrTrain, fnrTest = fnTrain/(tpTrain+fnTrain), fnTest/(tpTest+fnTest)\n",
        "  tprTrain, tprTest = tpTrain/(tpTrain+fnTrain), tpTest/(tpTest+fnTest)\n",
        "  tnrTrain, tnrTest = tnTrain/(tnTrain+fpTrain), tnTest/(tnTest+fpTest)\n",
        "    \n",
        "  print(\"\\t\\t\\tTrain\\tTest\")\n",
        "  print(\"True Positive Rate: \\t%.4f\\t%.4f\"%(tprTrain, tprTest))\n",
        "  print(\"True Negative Rate: \\t%.4f\\t%.4f\"%(tnrTrain, tnrTest))\n",
        "  print(\"False Positive Rate:\\t%.4f\\t%.4f\"%(fprTrain, fprTest))\n",
        "  print(\"False Negative Rate:\\t%.4f\\t%.4f\"%(fnrTrain, fnrTest))\n",
        "  print(\"\\n\\n\")"
      ],
      "execution_count": 0,
      "outputs": []
    },
    {
      "cell_type": "code",
      "metadata": {
        "id": "RH8_f8aaY95U",
        "colab_type": "code",
        "colab": {
          "base_uri": "https://localhost:8080/",
          "height": 407
        },
        "outputId": "8c73c26c-8540-4524-e5eb-c1b5c4663a46"
      },
      "source": [
        "doubleModel(newsData)"
      ],
      "execution_count": 271,
      "outputs": [
        {
          "output_type": "stream",
          "text": [
            "\t\t\tTrain\tTest\n",
            "True Positive Rate: \t0.9520\t0.5994\n",
            "True Negative Rate: \t0.8893\t0.8502\n",
            "False Positive Rate:\t0.1107\t0.1498\n",
            "False Negative Rate:\t0.0480\t0.4006\n",
            "\n",
            "\n",
            "\n"
          ],
          "name": "stdout"
        },
        {
          "output_type": "display_data",
          "data": {
            "image/png": "[encoded data removed]",
            "text/plain": [
              "<Figure size 864x288 with 4 Axes>"
            ]
          },
          "metadata": {
            "tags": []
          }
        }
      ]
    },
    {
      "cell_type": "code",
      "metadata": {
        "id": "AaP1aAG5ZApU",
        "colab_type": "code",
        "colab": {}
      },
      "source": [
        "df1 = pd.DataFrame({'a':[True, True, False, False]})\n",
        "df2 = pd.DataFrame({'a':[True, False, True, False]})"
      ],
      "execution_count": 0,
      "outputs": []
    },
    {
      "cell_type": "code",
      "metadata": {
        "id": "vUjmC8XVacB7",
        "colab_type": "code",
        "colab": {
          "base_uri": "https://localhost:8080/",
          "height": 171
        },
        "outputId": "04469d71-2b03-4b75-e8af-a8384ff6adcf"
      },
      "source": [
        "df3 = pd.DataFrame(df1 | df2)\n",
        "df3"
      ],
      "execution_count": 263,
      "outputs": [
        {
          "output_type": "execute_result",
          "data": {
            "text/html": [
              "<div>\n",
              "<style scoped>\n",
              "    .dataframe tbody tr th:only-of-type {\n",
              "        vertical-align: middle;\n",
              "    }\n",
              "\n",
              "    .dataframe tbody tr th {\n",
              "        vertical-align: top;\n",
              "    }\n",
              "\n",
              "    .dataframe thead th {\n",
              "        text-align: right;\n",
              "    }\n",
              "</style>\n",
              "<table border=\"1\" class=\"dataframe\">\n",
              "  <thead>\n",
              "    <tr style=\"text-align: right;\">\n",
              "      <th></th>\n",
              "      <th>a</th>\n",
              "    </tr>\n",
              "  </thead>\n",
              "  <tbody>\n",
              "    <tr>\n",
              "      <th>0</th>\n",
              "      <td>True</td>\n",
              "    </tr>\n",
              "    <tr>\n",
              "      <th>1</th>\n",
              "      <td>True</td>\n",
              "    </tr>\n",
              "    <tr>\n",
              "      <th>2</th>\n",
              "      <td>True</td>\n",
              "    </tr>\n",
              "    <tr>\n",
              "      <th>3</th>\n",
              "      <td>False</td>\n",
              "    </tr>\n",
              "  </tbody>\n",
              "</table>\n",
              "</div>"
            ],
            "text/plain": [
              "       a\n",
              "0   True\n",
              "1   True\n",
              "2   True\n",
              "3  False"
            ]
          },
          "metadata": {
            "tags": []
          },
          "execution_count": 263
        }
      ]
    },
    {
      "cell_type": "code",
      "metadata": {
        "id": "1bTwn2BGbB9u",
        "colab_type": "code",
        "colab": {}
      },
      "source": [
        ""
      ],
      "execution_count": 0,
      "outputs": []
    }
  ]
}